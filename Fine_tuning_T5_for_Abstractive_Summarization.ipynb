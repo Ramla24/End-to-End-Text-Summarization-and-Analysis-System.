{
  "cells": [
    {
      "cell_type": "markdown",
      "metadata": {
        "id": "view-in-github",
        "colab_type": "text"
      },
      "source": [
        "<a href=\"https://colab.research.google.com/github/Ramla24/Text-Summarization-and-Analysis-System./blob/main/Fine_tuning_T5_for_Abstractive_Summarization.ipynb\" target=\"_parent\"><img src=\"https://colab.research.google.com/assets/colab-badge.svg\" alt=\"Open In Colab\"/></a>"
      ]
    },
    {
      "cell_type": "code",
      "execution_count": null,
      "id": "0f3616ee-e7bc-4ce0-ad20-6449b8d58cca",
      "metadata": {
        "id": "0f3616ee-e7bc-4ce0-ad20-6449b8d58cca",
        "outputId": "1dc18728-9c24-4135-99c5-b7247f076045"
      },
      "outputs": [
        {
          "name": "stdout",
          "output_type": "stream",
          "text": [
            "WARNING:tensorflow:From C:\\Users\\ASUS\\anaconda3\\Lib\\site-packages\\tf_keras\\src\\losses.py:2976: The name tf.losses.sparse_softmax_cross_entropy is deprecated. Please use tf.compat.v1.losses.sparse_softmax_cross_entropy instead.\n",
            "\n"
          ]
        }
      ],
      "source": [
        "import pandas as pd\n",
        "from datasets import Dataset\n",
        "from transformers import AutoModelForSeq2SeqLM, AutoTokenizer\n",
        "from transformers import DataCollatorForSeq2Seq, Seq2SeqTrainingArguments, Seq2SeqTrainer\n",
        "from rouge_score import rouge_scorer"
      ]
    },
    {
      "cell_type": "code",
      "execution_count": null,
      "id": "825c024f-fcc4-4ce0-b31a-5f2fa53a1a02",
      "metadata": {
        "id": "825c024f-fcc4-4ce0-b31a-5f2fa53a1a02"
      },
      "outputs": [],
      "source": [
        "file_path = \"../Dataset/summarydataset.csv\""
      ]
    },
    {
      "cell_type": "code",
      "execution_count": null,
      "id": "248a762e-dc28-4587-abed-16b848673a52",
      "metadata": {
        "id": "248a762e-dc28-4587-abed-16b848673a52"
      },
      "outputs": [],
      "source": [
        "data = pd.read_csv(file_path)"
      ]
    },
    {
      "cell_type": "code",
      "execution_count": null,
      "id": "8b87dfdc-61d3-46a4-ad42-0fa86a736d73",
      "metadata": {
        "id": "8b87dfdc-61d3-46a4-ad42-0fa86a736d73",
        "outputId": "3bd9fd8e-ae05-48e3-ba44-71ccb76e4ce9",
        "colab": {
          "referenced_widgets": [
            "fd59f8deeb7240c9845e1dbe55dd428f",
            "10c854e21ef5487084513412fcb8e815",
            "db1d3f2ba95a4f8fae6138b1b4ee9d36",
            "a5a5b90fb8554a06a8454b24211399f8",
            "924cffe6df5648aba26f2eb19d788bc2",
            "bdc893f256374491aa07f3b081c28c5b",
            "5342245bde024a13acd812562372aa96",
            "11df0dbe344f4751ba1b5fbea57ea5ee",
            "7d6e2127e7ad4bb3834e47f7a42316dd"
          ]
        }
      },
      "outputs": [
        {
          "data": {
            "application/vnd.jupyter.widget-view+json": {
              "model_id": "fd59f8deeb7240c9845e1dbe55dd428f",
              "version_major": 2,
              "version_minor": 0
            },
            "text/plain": [
              "tokenizer_config.json:   0%|          | 0.00/2.54k [00:00<?, ?B/s]"
            ]
          },
          "metadata": {},
          "output_type": "display_data"
        },
        {
          "name": "stderr",
          "output_type": "stream",
          "text": [
            "C:\\Users\\ASUS\\anaconda3\\Lib\\site-packages\\huggingface_hub\\file_download.py:159: UserWarning: `huggingface_hub` cache-system uses symlinks by default to efficiently store duplicated files but your machine does not support them in C:\\Users\\ASUS\\.cache\\huggingface\\hub\\models--google--flan-t5-base. Caching files will still work but in a degraded version that might require more space on your disk. This warning can be disabled by setting the `HF_HUB_DISABLE_SYMLINKS_WARNING` environment variable. For more details, see https://huggingface.co/docs/huggingface_hub/how-to-cache#limitations.\n",
            "To support symlinks on Windows, you either need to activate Developer Mode or to run Python as an administrator. In order to see activate developer mode, see this article: https://docs.microsoft.com/en-us/windows/apps/get-started/enable-your-device-for-development\n",
            "  warnings.warn(message)\n"
          ]
        },
        {
          "data": {
            "application/vnd.jupyter.widget-view+json": {
              "model_id": "10c854e21ef5487084513412fcb8e815",
              "version_major": 2,
              "version_minor": 0
            },
            "text/plain": [
              "spiece.model:   0%|          | 0.00/792k [00:00<?, ?B/s]"
            ]
          },
          "metadata": {},
          "output_type": "display_data"
        },
        {
          "data": {
            "application/vnd.jupyter.widget-view+json": {
              "model_id": "db1d3f2ba95a4f8fae6138b1b4ee9d36",
              "version_major": 2,
              "version_minor": 0
            },
            "text/plain": [
              "tokenizer.json:   0%|          | 0.00/2.42M [00:00<?, ?B/s]"
            ]
          },
          "metadata": {},
          "output_type": "display_data"
        },
        {
          "data": {
            "application/vnd.jupyter.widget-view+json": {
              "model_id": "a5a5b90fb8554a06a8454b24211399f8",
              "version_major": 2,
              "version_minor": 0
            },
            "text/plain": [
              "special_tokens_map.json:   0%|          | 0.00/2.20k [00:00<?, ?B/s]"
            ]
          },
          "metadata": {},
          "output_type": "display_data"
        },
        {
          "name": "stderr",
          "output_type": "stream",
          "text": [
            "C:\\Users\\ASUS\\anaconda3\\Lib\\site-packages\\transformers\\tokenization_utils_base.py:1601: FutureWarning: `clean_up_tokenization_spaces` was not set. It will be set to `True` by default. This behavior will be depracted in transformers v4.45, and will be then set to `False` by default. For more details check this issue: https://github.com/huggingface/transformers/issues/31884\n",
            "  warnings.warn(\n"
          ]
        },
        {
          "data": {
            "application/vnd.jupyter.widget-view+json": {
              "model_id": "924cffe6df5648aba26f2eb19d788bc2",
              "version_major": 2,
              "version_minor": 0
            },
            "text/plain": [
              "config.json:   0%|          | 0.00/1.40k [00:00<?, ?B/s]"
            ]
          },
          "metadata": {},
          "output_type": "display_data"
        },
        {
          "data": {
            "application/vnd.jupyter.widget-view+json": {
              "model_id": "bdc893f256374491aa07f3b081c28c5b",
              "version_major": 2,
              "version_minor": 0
            },
            "text/plain": [
              "model.safetensors:   0%|          | 0.00/990M [00:00<?, ?B/s]"
            ]
          },
          "metadata": {},
          "output_type": "display_data"
        },
        {
          "data": {
            "application/vnd.jupyter.widget-view+json": {
              "model_id": "5342245bde024a13acd812562372aa96",
              "version_major": 2,
              "version_minor": 0
            },
            "text/plain": [
              "generation_config.json:   0%|          | 0.00/147 [00:00<?, ?B/s]"
            ]
          },
          "metadata": {},
          "output_type": "display_data"
        },
        {
          "data": {
            "application/vnd.jupyter.widget-view+json": {
              "model_id": "11df0dbe344f4751ba1b5fbea57ea5ee",
              "version_major": 2,
              "version_minor": 0
            },
            "text/plain": [
              "Map:   0%|          | 0/800 [00:00<?, ? examples/s]"
            ]
          },
          "metadata": {},
          "output_type": "display_data"
        },
        {
          "data": {
            "application/vnd.jupyter.widget-view+json": {
              "model_id": "7d6e2127e7ad4bb3834e47f7a42316dd",
              "version_major": 2,
              "version_minor": 0
            },
            "text/plain": [
              "Map:   0%|          | 0/200 [00:00<?, ? examples/s]"
            ]
          },
          "metadata": {},
          "output_type": "display_data"
        }
      ],
      "source": [
        "# Convert DataFrame to Hugging Face Dataset\n",
        "dataset = Dataset.from_pandas(data)\n",
        "\n",
        "# Split the dataset\n",
        "dataset = dataset.train_test_split(test_size=0.2)\n",
        "\n",
        "# Model and tokenizer names\n",
        "model_name = \"google/flan-t5-base\"  # You can choose other models like \"t5-small\", \"facebook/bart-large-cnn\" etc.\n",
        "tokenizer = AutoTokenizer.from_pretrained(model_name)\n",
        "model = AutoModelForSeq2SeqLM.from_pretrained(model_name)\n",
        "\n",
        "# Tokenization function\n",
        "def preprocess_function(examples):\n",
        "    inputs = tokenizer(examples[\"content\"], padding=\"max_length\", truncation=True, max_length=512)\n",
        "    outputs = tokenizer(examples[\"human_summary\"], padding=\"max_length\", truncation=True, max_length=128)\n",
        "    inputs[\"labels\"] = outputs[\"input_ids\"]\n",
        "    return inputs\n",
        "\n",
        "# Apply tokenization\n",
        "tokenized_dataset = dataset.map(preprocess_function, batched=True)"
      ]
    },
    {
      "cell_type": "code",
      "execution_count": null,
      "id": "72c6aaef-5c74-477e-be3d-794cd8a9fb43",
      "metadata": {
        "id": "72c6aaef-5c74-477e-be3d-794cd8a9fb43"
      },
      "outputs": [],
      "source": [
        "data_collator = DataCollatorForSeq2Seq(tokenizer=tokenizer, model=model)\n",
        "\n",
        "# Metric\n",
        "rouge_scorer = rouge_scorer.RougeScorer(['rouge1', 'rougeL'], use_stemmer=True)\n",
        "\n",
        "def compute_metrics(pred):\n",
        "    labels_ids = pred.label_ids\n",
        "    pred_ids = pred.predictions\n",
        "\n",
        "    # Decode IDs to text\n",
        "    pred_str = tokenizer.batch_decode(pred_ids, skip_special_tokens=True)\n",
        "    labels_str = tokenizer.batch_decode(labels_ids, skip_special_tokens=True)\n",
        "\n",
        "    # Calculate ROUGE scores\n",
        "    rouge_scores = []\n",
        "    for ref, pred in zip(labels_str, pred_str):\n",
        "        score = rouge_scorer.score(ref, pred)\n",
        "        rouge_scores.append(score)\n",
        "\n",
        "    # Compute average ROUGE scores\n",
        "    avg_rouge1 = sum([score['rouge1'].fmeasure for score in rouge_scores]) / len(rouge_scores)\n",
        "    avg_rougeL = sum([score['rougeL'].fmeasure for score in rouge_scores]) / len(rouge_scores)\n",
        "\n",
        "    return {\"rouge1\": avg_rouge1, \"rougeL\": avg_rougeL}"
      ]
    },
    {
      "cell_type": "code",
      "execution_count": null,
      "id": "015e8d2d-8d19-4a74-9619-3d382816297b",
      "metadata": {
        "id": "015e8d2d-8d19-4a74-9619-3d382816297b",
        "outputId": "ad44c6e5-1ee3-4b1a-a500-62f52bb9640d"
      },
      "outputs": [
        {
          "name": "stderr",
          "output_type": "stream",
          "text": [
            "C:\\Users\\ASUS\\anaconda3\\Lib\\site-packages\\transformers\\training_args.py:1525: FutureWarning: `evaluation_strategy` is deprecated and will be removed in version 4.46 of 🤗 Transformers. Use `eval_strategy` instead\n",
            "  warnings.warn(\n"
          ]
        }
      ],
      "source": [
        "training_args = Seq2SeqTrainingArguments(\n",
        "    output_dir=\"./results\",\n",
        "    per_device_train_batch_size=2,\n",
        "    per_device_eval_batch_size=2,\n",
        "    predict_with_generate=True,\n",
        "    fp16=False,\n",
        "    num_train_epochs=3,\n",
        "    evaluation_strategy=\"epoch\",\n",
        "    save_strategy=\"epoch\",\n",
        "    load_best_model_at_end=True,\n",
        "    report_to=\"none\"\n",
        ")"
      ]
    },
    {
      "cell_type": "code",
      "execution_count": null,
      "id": "b3016872-19f1-4989-897b-20f41df5246f",
      "metadata": {
        "id": "b3016872-19f1-4989-897b-20f41df5246f"
      },
      "outputs": [],
      "source": [
        "# Create Trainer instance\n",
        "trainer = Seq2SeqTrainer(\n",
        "    model=model,\n",
        "    args=training_args,\n",
        "    train_dataset=tokenized_dataset[\"train\"],\n",
        "    eval_dataset=tokenized_dataset[\"test\"],\n",
        "    data_collator=data_collator,\n",
        "    compute_metrics=compute_metrics,\n",
        ")\n"
      ]
    },
    {
      "cell_type": "code",
      "execution_count": null,
      "id": "5b2166ca-39e6-4763-808d-3ff7a106b002",
      "metadata": {
        "id": "5b2166ca-39e6-4763-808d-3ff7a106b002",
        "outputId": "7d6bc3cf-fa37-408e-8e7c-1ab6bad4b676"
      },
      "outputs": [
        {
          "data": {
            "text/html": [
              "\n",
              "    <div>\n",
              "      \n",
              "      <progress value='1200' max='1200' style='width:300px; height:20px; vertical-align: middle;'></progress>\n",
              "      [1200/1200 11:08:28, Epoch 3/3]\n",
              "    </div>\n",
              "    <table border=\"1\" class=\"dataframe\">\n",
              "  <thead>\n",
              " <tr style=\"text-align: left;\">\n",
              "      <th>Epoch</th>\n",
              "      <th>Training Loss</th>\n",
              "      <th>Validation Loss</th>\n",
              "      <th>Rouge1</th>\n",
              "      <th>Rougel</th>\n",
              "    </tr>\n",
              "  </thead>\n",
              "  <tbody>\n",
              "    <tr>\n",
              "      <td>1</td>\n",
              "      <td>No log</td>\n",
              "      <td>1.173839</td>\n",
              "      <td>0.161162</td>\n",
              "      <td>0.145150</td>\n",
              "    </tr>\n",
              "    <tr>\n",
              "      <td>2</td>\n",
              "      <td>1.471000</td>\n",
              "      <td>1.147807</td>\n",
              "      <td>0.166956</td>\n",
              "      <td>0.150975</td>\n",
              "    </tr>\n",
              "    <tr>\n",
              "      <td>3</td>\n",
              "      <td>1.317000</td>\n",
              "      <td>1.137456</td>\n",
              "      <td>0.165056</td>\n",
              "      <td>0.148610</td>\n",
              "    </tr>\n",
              "  </tbody>\n",
              "</table><p>"
            ],
            "text/plain": [
              "<IPython.core.display.HTML object>"
            ]
          },
          "metadata": {},
          "output_type": "display_data"
        },
        {
          "name": "stderr",
          "output_type": "stream",
          "text": [
            "C:\\Users\\ASUS\\anaconda3\\Lib\\site-packages\\transformers\\generation\\utils.py:1258: UserWarning: Using the model-agnostic default `max_length` (=20) to control the generation length. We recommend setting `max_new_tokens` to control the maximum length of the generation.\n",
            "  warnings.warn(\n",
            "C:\\Users\\ASUS\\anaconda3\\Lib\\site-packages\\transformers\\generation\\utils.py:1258: UserWarning: Using the model-agnostic default `max_length` (=20) to control the generation length. We recommend setting `max_new_tokens` to control the maximum length of the generation.\n",
            "  warnings.warn(\n",
            "C:\\Users\\ASUS\\anaconda3\\Lib\\site-packages\\transformers\\generation\\utils.py:1258: UserWarning: Using the model-agnostic default `max_length` (=20) to control the generation length. We recommend setting `max_new_tokens` to control the maximum length of the generation.\n",
            "  warnings.warn(\n",
            "There were missing keys in the checkpoint model loaded: ['encoder.embed_tokens.weight', 'decoder.embed_tokens.weight'].\n"
          ]
        },
        {
          "data": {
            "text/plain": [
              "TrainOutput(global_step=1200, training_loss=1.3590263366699218, metrics={'train_runtime': 40157.4509, 'train_samples_per_second': 0.06, 'train_steps_per_second': 0.03, 'total_flos': 1643417645875200.0, 'train_loss': 1.3590263366699218, 'epoch': 3.0})"
            ]
          },
          "execution_count": 35,
          "metadata": {},
          "output_type": "execute_result"
        }
      ],
      "source": [
        "# Train the model\n",
        "trainer.train()"
      ]
    },
    {
      "cell_type": "code",
      "execution_count": null,
      "id": "5096f3a7-97fd-4a06-829b-db169a34de4e",
      "metadata": {
        "id": "5096f3a7-97fd-4a06-829b-db169a34de4e"
      },
      "outputs": [],
      "source": [
        "model.save_pretrained(\"./my_trained_model\")\n",
        "tokenizer.save_pretrained(\"./my_trained_model\")"
      ]
    },
    {
      "cell_type": "code",
      "execution_count": null,
      "id": "83159175-ba05-402d-82e0-991501fd4b0e",
      "metadata": {
        "id": "83159175-ba05-402d-82e0-991501fd4b0e"
      },
      "outputs": [],
      "source": [
        "model = AutoModelForSeq2SeqLM.from_pretrained(\"./my_trained_model\")\n",
        "tokenizer = AutoTokenizer.from_pretrained(\"./my_trained_model\")"
      ]
    },
    {
      "cell_type": "code",
      "execution_count": null,
      "id": "85ba6983-364e-4f7c-9600-6882b2aa42af",
      "metadata": {
        "id": "85ba6983-364e-4f7c-9600-6882b2aa42af",
        "outputId": "63d99015-de20-4dbc-ad1c-b619ce90877f"
      },
      "outputs": [
        {
          "name": "stdout",
          "output_type": "stream",
          "text": [
            "Generated Summary:  James N. Mattis, Donald J. Trump’s nominee for secretary of defense, was then a major general and the commander of the Marine division in Iraq responsible for the center. He quickly convened an inquiry into the death, which led to and banned the harsh techniques used at the prison. “General Mattis was all up in arms over this,” Ralph Dengler, then a lieutenant colonel, testified at a military hearing in January 2004. Colleagues say the general’s handling of the episode reflects his firmly held views against torture and prisoner mistreatment, which are shared\n"
          ]
        }
      ],
      "source": [
        "# Define a function to generate summary\n",
        "def generate_summary(input_text):\n",
        "    # Tokenize input text\n",
        "    inputs = tokenizer(input_text, return_tensors=\"pt\", truncation=True, padding=\"max_length\", max_length=512)\n",
        "\n",
        "    # Generate summary using the trained model\n",
        "    summary_ids = model.generate(inputs['input_ids'], num_beams=4, max_length=512, early_stopping=True)\n",
        "\n",
        "    # Decode and return the generated summary\n",
        "    return tokenizer.decode(summary_ids[0], skip_special_tokens=True)\n",
        "\n",
        "# Example usage:\n",
        "input_text = \"\"\"The body of the Iraqi prisoner was found naked and badly bruised in 2003, outside a detention center in southern Iraq run by United States Marines. The    man had been beaten, deprived of sleep, forced to stand for long periods and interrogated by Marines about his alleged role in a fatal ambush of American forces. James N. Mattis,   Donald J. Trump’s nominee for secretary of defense, was then a major general and the commander of the Marine division in Iraq responsible for the center. He quickly convened an inquiry into the death, which led to   and banned the harsh techniques used at the prison. “General Mattis was all up in arms over this,” Ralph Dengler, then a lieutenant colonel, testified at a military hearing in January 2004. He added that the commander, who arrived hours after the discovery on a planned visit with his British counterpart, had immediately described the death as “the worst thing that happened” under his watch in the Iraq war. “I was surprised that he would have felt that strongly about it, considering many of the other deaths, including American deaths,” Colonel Dengler said. Colleagues say the general’s handling of the episode reflects his firmly held views against torture and prisoner mistreatment, which are shared by many military leaders and could put them at odds with the new commander in chief. Mr. Trump, in a New York Times interview in late November, said he had been surprised to learn that the man he was considering to lead the country’s 2. 2 million service members did not believe in torture. During the presidential campaign, Mr. Trump advocated bringing back the   practice of waterboarding, adding that “only a stupid person would say it doesn’t work. ” General Mattis does not support abusive techniques, let alone waterboarding. “Give me a pack of cigarettes and a couple of beers,” he told Mr. Trump during their meeting in November, according to the   “and I do better with that than I do with torture. ” The general’s beliefs were shaped by his military training, but also by his experiences in dealing with issues related to torture or mistreatment, according to an examination of his nearly   career and interviews with former colleagues and friends. General Mattis led the United States Central Command from August 2010 to March 2013. Lt. Col. T. G. Taylor, who was General Mattis’s spokesman during much of that time, said in an interview that the commander had spoken of America as needing to hold the moral high ground. Failing to uphold important principles “makes it easier for a soldier or a Marine to ask, ‘What am I fighting for? ’” Colonel Taylor said. “That is something that General Mattis is keenly aware of,” he added. As a young officer, General Mattis would have been instructed in the laws of war, including the Geneva Conventions, which, among other protections, require humane treatment of prisoners of war. A Marine who enlisted in 1969 while attending college  —   part of an R. O. T. C. program during the height of the Vietnam War  —   he did not deploy to Vietnam. But, several friends say, he believed that American prisoners of war were more likely to be tortured by the Vietcong if the United States tortured enemy captives. In 2006, General Mattis supported Gen. David H. Petraeus of the Army and other military leaders in the development of a new counterinsurgency field manual that highlighted limits on interrogation tactics. “Torture and cruel, inhuman, and degrading treatment is never a morally permissible option, even if lives depend on gaining information,” the manual said. “Lose moral legitimacy, lose the war. ” General Mattis later agreed in a Senate Armed Services Committee hearing that it was inappropriate for the military to support the use of abusive techniques on detainees  —   including waterboarding, forced nudity and sensory deprivation, tactics inflicted on prisoners during interrogations in secret C. I. A. prisons in the years after the 2001 terrorist attacks. Those techniques had been modeled on a military training program operated by the Joint Personnel Recovery Agency, which later fell under the general’s command. That program, Survival, Evasion, Resistance and Escape, also known as SERE, exposed United States soldiers and other service members to techniques that an enemy violating the laws of war might use so that Americans could be better prepared to resist them. The experience typically led trainees to conclude that tortured prisoners of war will say whatever they need to in order to stay alive, whether true or not. A recent investigation by The New York Times found that many terrorism suspects subjected to harsh tactics in C. I. A. jails or American military prisons had lasting mental health problems that were similar to those experienced by some American former P. O. W.s who suffered horrific abuses in Vietnam or Korea. As a commander in Afghanistan and later in Iraq, and as an overall leader of the American war effort, General Mattis often grappled with the consequences of the C. I. A. ’s treatment of prisoners and the harsh conditions at the military detention center at Guantánamo Bay, Cuba. They became a powerful recruiting tool for jihadis who threatened American forces in the field. Testifying at a Senate hearing in 2015 after his retirement, General Mattis opposed the release, before the end of hostilities, of prisoners who had fought against the United States. However, he added, they should be treated humanely, in accordance with international and domestic law. “I would go by the Geneva Conventions, and maintain them, with Red Cross oversight, until the war is over,” he told lawmakers. Torture is not effective in eliciting intelligence, the general felt. “For his whole career, he’s believed that it just doesn’t pay dividends,” said a retired senior United States military officer who is close to General Mattis but spoke on the condition of anonymity for fear of alienating Mr. Trump. The “pack of cigarettes” reference, according to people who served with the general, reflects two tenets that are drummed into future military leaders: that information gleaned from torture is unreliable, and that   can go a long way. “I’m not in his head, but what General Mattis was saying is that offering a modicum of friendship and humanity to someone in a desperate situation is more successful than physical torture,” Colonel Taylor said. Hope Hicks, a spokeswoman for Mr. Trump’s transition team, declined requests for more detail on the  ’s discussions with General Mattis or on the source of General Mattis’s beliefs and any further thoughts Mr. Trump has had about the use of torture. General Mattis declined to be interviewed. Many American military leaders maintain that the Bush administration’s departure from established practices in allowing harsh coercive techniques  —   government lawyers had said they did not meet the legal definition of torture, and had declared that detainees were not protected by the Geneva Conventions  —   tainted the United States’ reputation while not yielding results. “Ineffective, war crime, against our values, moral high ground, et cetera,” Donald J. Guter, a retired rear admiral and the dean of the South Texas College of Law, said in explaining objections to brutal treatment. “A very practical reason is that it opens the door for our own troops to be tortured, and we have no basis to object. If we torture, we’ve lost who we are. ” The Department of Defense has clear policies on the humane treatment of detainees. For example, the Army field manual’s section on intelligence collection states: “Use of torture is not only illegal but also it is a poor technique that yields unreliable results. ” The manual adds, “Cruel, inhuman and degrading treatment is prohibited. ” As a commander in Iraq, General Mattis ordered several investigations into detainee abuse. One of the most significant concerned the 2003 death at a makeshift detention and interrogation center in an abandoned Iraqi Army barracks in southern Iraq, christened Camp Whitehorse. Prisoners were held by United States Marine reservists in extreme heat in a dirty, stone building that had been looted of all amenities by Iraqis during the   invasion. The prisoner who died, Nagem Sadoon Hatab, had been arrested days earlier on suspicion of involvement in a deadly ambush of a United States Army convoy that led to the capture of Jessica Lynch, a    private who was later rescued. Mr. Hatab was alleged to have killed American service members and sold an   rifle taken from one of them. Mr. Hatab failed to stand up while being subjected to     treatment  —   forced standing for 50 minutes of each hour, for up to 10 hours. The objective was to make the detainees tired, stressed and submissive for interrogators, witnesses later said in military court hearings. Like other prisoners at the center, Mr. Hatab was hooded and his hands were restrained behind his back with plastic ties. He was beaten severely by Marine guards after refusing to comply with the forced standing and  . He also underwent questioning by a special Marine interrogation squad. A Marine guard later testified that he had often heard yelling, screaming and banging from the interrogation room, a converted bathroom. After midnight on June 6, 2003, Mr. Hatab was found dead in a courtyard where he had been left lying for hours, his body covered in his own feces. An armed forces medical examiner categorized the death as a homicide. Mr. Hatab had six broken ribs and had suffocated from a broken bone in his throat after being dragged outside by his neck, the examiner concluded. Eight Camp Whitehorse personnel were charged with crimes, including negligent homicide. But the investigator appointed by General Mattis, Col. William B. Gallo, later cited problems with the autopsy and could not determine which of the attacks on Mr. Hatab, if any, might have been lethal. In Colonel Gallo’s opinion, the   treatment did not amount to torture, but the command had failed to provide adequate predeployment training in handling prisoners and in the law of war. Evidence, including certain photographs of the prisoner and a summary of an interrogation he underwent, had been lost or destroyed, complicating the investigation and prosecution. Two Marines, a major and a sergeant, were eventually convicted of lesser charges. Mr. Hatab’s death clearly had an effect on General Mattis. According to reports at the time, he ordered a review of the procedures for handling prisoners, which resulted in a ban of   tactics, including the forced standing. Marine Corps personnel running detention camps were given more training, and a manual was compiled to explain each step of the process. Still, there were several other instances of prisoner abuse involving the division. Later, aiming to earn the trust of the Iraqi people after the first phase of combat had ended, General Mattis added an addendum to the motto of his Marines: “No better friend, no worse enemy. ” The addition was, “First, do no harm. ”\"\"\"\n",
        "summary = generate_summary(input_text)\n",
        "print(\"Generated Summary: \", summary)\n"
      ]
    },
    {
      "cell_type": "code",
      "execution_count": null,
      "id": "86fe780f-24ce-4615-b43a-36514ce83cba",
      "metadata": {
        "id": "86fe780f-24ce-4615-b43a-36514ce83cba",
        "outputId": "daba5993-6f2f-4fac-af41-df583721e81e"
      },
      "outputs": [
        {
          "data": {
            "text/plain": [
              "'The body of the Iraqi prisoner was found naked and badly bruised in 2003, outside a detention center in southern Iraq run by United States Marines. The    man had been beaten, deprived of sleep, forced to stand for long periods and interrogated by Marines about his alleged role in a fatal ambush of American forces. James N. Mattis,   Donald J. Trump’s nominee for secretary of defense, was then a major general and the commander of the Marine division in Iraq responsible for the center. He quickly convened an inquiry into the death, which led to   and banned the harsh techniques used at the prison. “General Mattis was all up in arms over this,” Ralph Dengler, then a lieutenant colonel, testified at a military hearing in January 2004. He added that the commander, who arrived hours after the discovery on a planned visit with his British counterpart, had immediately described the death as “the worst thing that happened” under his watch in the Iraq war. “I was surprised that he would have felt that strongly about it, considering many of the other deaths, including American deaths,” Colonel Dengler said. Colleagues say the general’s handling of the episode reflects his firmly held views against torture and prisoner mistreatment, which are shared by many military leaders and could put them at odds with the new commander in chief. Mr. Trump, in a New York Times interview in late November, said he had been surprised to learn that the man he was considering to lead the country’s 2. 2 million service members did not believe in torture. During the presidential campaign, Mr. Trump advocated bringing back the   practice of waterboarding, adding that “only a stupid person would say it doesn’t work. ” General Mattis does not support abusive techniques, let alone waterboarding. “Give me a pack of cigarettes and a couple of beers,” he told Mr. Trump during their meeting in November, according to the   “and I do better with that than I do with torture. ” The general’s beliefs were shaped by his military training, but also by his experiences in dealing with issues related to torture or mistreatment, according to an examination of his nearly   career and interviews with former colleagues and friends. General Mattis led the United States Central Command from August 2010 to March 2013. Lt. Col. T. G. Taylor, who was General Mattis’s spokesman during much of that time, said in an interview that the commander had spoken of America as needing to hold the moral high ground. Failing to uphold important principles “makes it easier for a soldier or a Marine to ask, ‘What am I fighting for? ’” Colonel Taylor said. “That is something that General Mattis is keenly aware of,” he added. As a young officer, General Mattis would have been instructed in the laws of war, including the Geneva Conventions, which, among other protections, require humane treatment of prisoners of war. A Marine who enlisted in 1969 while attending college  —   part of an R. O. T. C. program during the height of the Vietnam War  —   he did not deploy to Vietnam. But, several friends say, he believed that American prisoners of war were more likely to be tortured by the Vietcong if the United States tortured enemy captives. In 2006, General Mattis supported Gen. David H. Petraeus of the Army and other military leaders in the development of a new counterinsurgency field manual that highlighted limits on interrogation tactics. “Torture and cruel, inhuman, and degrading treatment is never a morally permissible option, even if lives depend on gaining information,” the manual said. “Lose moral legitimacy, lose the war. ” General Mattis later agreed in a Senate Armed Services Committee hearing that it was inappropriate for the military to support the use of abusive techniques on detainees  —   including waterboarding, forced nudity and sensory deprivation, tactics inflicted on prisoners during interrogations in secret C. I. A. prisons in the years after the 2001 terrorist attacks. Those techniques had been modeled on a military training program operated by the Joint Personnel Recovery Agency, which later fell under the general’s command. That program, Survival, Evasion, Resistance and Escape, also known as SERE, exposed United States soldiers and other service members to techniques that an enemy violating the laws of war might use so that Americans could be better prepared to resist them. The experience typically led trainees to conclude that tortured prisoners of war will say whatever they need to in order to stay alive, whether true or not. A recent investigation by The New York Times found that many terrorism suspects subjected to harsh tactics in C. I. A. jails or American military prisons had lasting mental health problems that were similar to those experienced by some American former P. O. W.s who suffered horrific abuses in Vietnam or Korea. As a commander in Afghanistan and later in Iraq, and as an overall leader of the American war effort, General Mattis often grappled with the consequences of the C. I. A. ’s treatment of prisoners and the harsh conditions at the military detention center at Guantánamo Bay, Cuba. They became a powerful recruiting tool for jihadis who threatened American forces in the field. Testifying at a Senate hearing in 2015 after his retirement, General Mattis opposed the release, before the end of hostilities, of prisoners who had fought against the United States. However, he added, they should be treated humanely, in accordance with international and domestic law. “I would go by the Geneva Conventions, and maintain them, with Red Cross oversight, until the war is over,” he told lawmakers. Torture is not effective in eliciting intelligence, the general felt. “For his whole career, he’s believed that it just doesn’t pay dividends,” said a retired senior United States military officer who is close to General Mattis but spoke on the condition of anonymity for fear of alienating Mr. Trump. The “pack of cigarettes” reference, according to people who served with the general, reflects two tenets that are drummed into future military leaders: that information gleaned from torture is unreliable, and that   can go a long way. “I’m not in his head, but what General Mattis was saying is that offering a modicum of friendship and humanity to someone in a desperate situation is more successful than physical torture,” Colonel Taylor said. Hope Hicks, a spokeswoman for Mr. Trump’s transition team, declined requests for more detail on the  ’s discussions with General Mattis or on the source of General Mattis’s beliefs and any further thoughts Mr. Trump has had about the use of torture. General Mattis declined to be interviewed. Many American military leaders maintain that the Bush administration’s departure from established practices in allowing harsh coercive techniques  —   government lawyers had said they did not meet the legal definition of torture, and had declared that detainees were not protected by the Geneva Conventions  —   tainted the United States’ reputation while not yielding results. “Ineffective, war crime, against our values, moral high ground, et cetera,” Donald J. Guter, a retired rear admiral and the dean of the South Texas College of Law, said in explaining objections to brutal treatment. “A very practical reason is that it opens the door for our own troops to be tortured, and we have no basis to object. If we torture, we’ve lost who we are. ” The Department of Defense has clear policies on the humane treatment of detainees. For example, the Army field manual’s section on intelligence collection states: “Use of torture is not only illegal but also it is a poor technique that yields unreliable results. ” The manual adds, “Cruel, inhuman and degrading treatment is prohibited. ” As a commander in Iraq, General Mattis ordered several investigations into detainee abuse. One of the most significant concerned the 2003 death at a makeshift detention and interrogation center in an abandoned Iraqi Army barracks in southern Iraq, christened Camp Whitehorse. Prisoners were held by United States Marine reservists in extreme heat in a dirty, stone building that had been looted of all amenities by Iraqis during the   invasion. The prisoner who died, Nagem Sadoon Hatab, had been arrested days earlier on suspicion of involvement in a deadly ambush of a United States Army convoy that led to the capture of Jessica Lynch, a    private who was later rescued. Mr. Hatab was alleged to have killed American service members and sold an   rifle taken from one of them. Mr. Hatab failed to stand up while being subjected to     treatment  —   forced standing for 50 minutes of each hour, for up to 10 hours. The objective was to make the detainees tired, stressed and submissive for interrogators, witnesses later said in military court hearings. Like other prisoners at the center, Mr. Hatab was hooded and his hands were restrained behind his back with plastic ties. He was beaten severely by Marine guards after refusing to comply with the forced standing and  . He also underwent questioning by a special Marine interrogation squad. A Marine guard later testified that he had often heard yelling, screaming and banging from the interrogation room, a converted bathroom. After midnight on June 6, 2003, Mr. Hatab was found dead in a courtyard where he had been left lying for hours, his body covered in his own feces. An armed forces medical examiner categorized the death as a homicide. Mr. Hatab had six broken ribs and had suffocated from a broken bone in his throat after being dragged outside by his neck, the examiner concluded. Eight Camp Whitehorse personnel were charged with crimes, including negligent homicide. But the investigator appointed by General Mattis, Col. William B. Gallo, later cited problems with the autopsy and could not determine which of the attacks on Mr. Hatab, if any, might have been lethal. In Colonel Gallo’s opinion, the   treatment did not amount to torture, but the command had failed to provide adequate predeployment training in handling prisoners and in the law of war. Evidence, including certain photographs of the prisoner and a summary of an interrogation he underwent, had been lost or destroyed, complicating the investigation and prosecution. Two Marines, a major and a sergeant, were eventually convicted of lesser charges. Mr. Hatab’s death clearly had an effect on General Mattis. According to reports at the time, he ordered a review of the procedures for handling prisoners, which resulted in a ban of   tactics, including the forced standing. Marine Corps personnel running detention camps were given more training, and a manual was compiled to explain each step of the process. Still, there were several other instances of prisoner abuse involving the division. Later, aiming to earn the trust of the Iraqi people after the first phase of combat had ended, General Mattis added an addendum to the motto of his Marines: “No better friend, no worse enemy. ” The addition was, “First, do no harm. ”'"
            ]
          },
          "execution_count": 22,
          "metadata": {},
          "output_type": "execute_result"
        }
      ],
      "source": [
        "input_text"
      ]
    },
    {
      "cell_type": "code",
      "execution_count": null,
      "id": "db524f68-1cfe-4e51-a6e1-df06d04c41ce",
      "metadata": {
        "id": "db524f68-1cfe-4e51-a6e1-df06d04c41ce"
      },
      "outputs": [],
      "source": [
        "text =\"\"\"The body of the Iraqi prisoner was found naked and badly bruised in 2003, outside a detention center in southern Iraq run by United States Marines. The man had been beaten, deprived of sleep, forced to stand for long periods and interrogated by Marines about his alleged role in a fatal ambush of American forces. This sparked debates on the humanity of the United States. General Mattis said in a Senate Armed Services Committee hearing that it was inappropriate for the military to support the use of abusive techniques on detainees — including waterboarding, forced nudity and sensory deprivation, tactics inflicted on prisoners during interrogations in secret C. I. A. prisons in the years after the 2001 terrorist attacks.\"\"\""
      ]
    },
    {
      "cell_type": "code",
      "execution_count": null,
      "id": "91ccc3ad-a3e7-4943-99ed-b8f5c2b63028",
      "metadata": {
        "id": "91ccc3ad-a3e7-4943-99ed-b8f5c2b63028",
        "outputId": "62787655-984d-4548-b042-0b311fc3b676"
      },
      "outputs": [
        {
          "data": {
            "text/plain": [
              "'The body of the Iraqi prisoner was found naked and badly bruised in 2003, outside a detention center in southern Iraq run by United States Marines. The man had been beaten, deprived of sleep, forced to stand for long periods and interrogated by Marines about his alleged role in a fatal ambush of American forces. This sparked debates on the humanity of the United States. General Mattis said in a Senate Armed Services Committee hearing that it was inappropriate for the military to support the use of abusive techniques on detainees — including waterboarding, forced nudity and sensory deprivation, tactics inflicted on prisoners during interrogations in secret C. I. A. prisons in the years after the 2001 terrorist attacks.'"
            ]
          },
          "execution_count": 50,
          "metadata": {},
          "output_type": "execute_result"
        }
      ],
      "source": [
        "text"
      ]
    },
    {
      "cell_type": "code",
      "execution_count": null,
      "id": "8583997d-0927-4d57-94fd-b0f60584c9e8",
      "metadata": {
        "id": "8583997d-0927-4d57-94fd-b0f60584c9e8",
        "outputId": "57021719-e4b9-4ac5-b45d-5c3534f5cd09"
      },
      "outputs": [
        {
          "name": "stderr",
          "output_type": "stream",
          "text": [
            "Token indices sequence length is longer than the specified maximum sequence length for this model (2525 > 512). Running this sequence through the model will result in indexing errors\n"
          ]
        },
        {
          "name": "stdout",
          "output_type": "stream",
          "text": [
            "Generated Summary: James N. Mattis, Donald J. Trump’s nominee for secretary of defense, was a major general and the commander of the Marine division in Iraq responsible for the center. He quickly convened an inquiry into the death, which led to and banned the harsh techniques used at the prison. The general’s beliefs were shaped by his military training, but also by his experiences in dealing with issues related to torture or mistreatment, according to an examination of his nearly career and interviews with former colleagues and friends. As a young officer, General Mattis would have been instructed in the laws of war, including the Geneva Conventions, which, among other protections, require humane treatment of prisoners of war. A Marine who enlisted in 1969 while attending college — part of an R. O. T. C. program during the height of the Vietnam War — he did not deploy to Vietnam. But several friends say he believed that American prisoners were more likely to be tortured by the Vietcong if the United States tortured enemy captives. In 2006, General Matis supported Gen. David H. Petraeus of the Army and other military leaders in the development of a new counterinsurgency field manual that highlighted limits on interrogation tactics. “Torture and cruel, inhuman, and degrading treatment is never a morally permissible option, even if lives depend on gaining information,” said a retired senior United States military officer who is close to the general but spoke on the condition of anonymity for fear of alienating Mr. Trump. “For his whole career, he’s believed that it just doesn’t pay dividends,” said one retired senior U.S. military officer, who is near the general. The “pack of cigarettes” reference reflects two tenets that are drummed into future military leaders: that information gleaned from torture is unreliable, and that can go a long way. “I’m not in his head,” said an ex-Secretary of Defense who was close to Mattis. The General’s belief is that offering a modicum of friendship and humanity to someone in a desperate situation is more successful than physical torture,” he told lawmakers. “If we torture, we’ve lost who we are,” Donald Guter, a former rear admiral and the dean of the South\n"
          ]
        }
      ],
      "source": [
        "from transformers import pipeline\n",
        "\n",
        "# Load the summarization pipeline with the LED model\n",
        "summarizer = pipeline(\"summarization\", model=\"google/flan-t5-base\", tokenizer=\"google/flan-t5-base\")\n",
        "\n",
        "# Your input document (can be a long article or news)\n",
        "\n",
        "\n",
        "# Generate summary\n",
        "summary = summarizer(input_text, max_length=512, min_length=512, do_sample=False)\n",
        "\n",
        "# Output the summary\n",
        "print(\"Generated Summary:\", summary[0]['summary_text'])\n"
      ]
    },
    {
      "cell_type": "code",
      "execution_count": null,
      "id": "a0b39866-9d83-4ed8-9f11-aa955918bbf1",
      "metadata": {
        "id": "a0b39866-9d83-4ed8-9f11-aa955918bbf1",
        "outputId": "ca3afd63-850c-4014-c48d-56f6ebe5f0ac"
      },
      "outputs": [
        {
          "name": "stdout",
          "output_type": "stream",
          "text": [
            "change\n"
          ]
        }
      ],
      "source": [
        "print(\"change\")"
      ]
    },
    {
      "cell_type": "code",
      "execution_count": null,
      "id": "4e63b971-6f48-4f2e-9f52-28e7dd32f524",
      "metadata": {
        "id": "4e63b971-6f48-4f2e-9f52-28e7dd32f524"
      },
      "outputs": [],
      "source": []
    }
  ],
  "metadata": {
    "kernelspec": {
      "display_name": "Python 3 (ipykernel)",
      "language": "python",
      "name": "python3"
    },
    "language_info": {
      "codemirror_mode": {
        "name": "ipython",
        "version": 3
      },
      "file_extension": ".py",
      "mimetype": "text/x-python",
      "name": "python",
      "nbconvert_exporter": "python",
      "pygments_lexer": "ipython3",
      "version": "3.12.4"
    },
    "colab": {
      "provenance": [],
      "include_colab_link": true
    }
  },
  "nbformat": 4,
  "nbformat_minor": 5
}