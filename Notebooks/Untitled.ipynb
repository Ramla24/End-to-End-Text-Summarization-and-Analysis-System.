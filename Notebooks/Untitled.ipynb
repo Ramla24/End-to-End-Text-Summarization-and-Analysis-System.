{
 "cells": [
  {
   "cell_type": "code",
   "execution_count": 1,
   "id": "e0478078-eeaf-417f-884a-77e9f1f73867",
   "metadata": {},
   "outputs": [],
   "source": [
    "from scipy.special import softmax"
   ]
  },
  {
   "cell_type": "code",
   "execution_count": 5,
   "id": "8ba9eba3-94cf-4582-b06e-3e8867fdc2ae",
   "metadata": {},
   "outputs": [],
   "source": [
    "def sentiment(text, tokenizer,model):\n",
    "    encoded_txt = tokenizer(example, return_tensors = 'pt')\n",
    "    \n",
    "    output = model(**encoded_txt)\n",
    "\n",
    "\n",
    "\n",
    "    scores = output[0][0].detach().numpy()\n",
    "    scores = softmax(scores)\n",
    "\n",
    "\n",
    "    scores_dict = {\n",
    "    'Negative': scores[0],\n",
    "    'Neutral': scores[1],\n",
    "    'Positive': scores[2]\n",
    "     }\n",
    "\n",
    "\n",
    "    highest_label = max(scores_dict, key=scores_dict.get)\n",
    "\n",
    "\n",
    "\n",
    "    return highest_label\n",
    "\n",
    "    "
   ]
  },
  {
   "cell_type": "code",
   "execution_count": null,
   "id": "1c0acb78-7bf6-47c5-a335-6dfbc72ffae9",
   "metadata": {},
   "outputs": [],
   "source": []
  }
 ],
 "metadata": {
  "kernelspec": {
   "display_name": "Python 3 (ipykernel)",
   "language": "python",
   "name": "python3"
  },
  "language_info": {
   "codemirror_mode": {
    "name": "ipython",
    "version": 3
   },
   "file_extension": ".py",
   "mimetype": "text/x-python",
   "name": "python",
   "nbconvert_exporter": "python",
   "pygments_lexer": "ipython3",
   "version": "3.12.4"
  }
 },
 "nbformat": 4,
 "nbformat_minor": 5
}
