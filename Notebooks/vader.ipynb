{
 "cells": [
  {
   "cell_type": "code",
   "execution_count": 1,
   "id": "a4da9e00-d2d0-4904-9ec8-63c35732a96d",
   "metadata": {},
   "outputs": [],
   "source": [
    "from nltk.sentiment import SentimentIntensityAnalyzer\n",
    "from tqdm.notebook import tqdm"
   ]
  },
  {
   "cell_type": "code",
   "execution_count": 7,
   "id": "fa9a44c6-f777-42e3-ab32-53752f3b218f",
   "metadata": {},
   "outputs": [],
   "source": [
    "sia = SentimentIntensityAnalyzer()"
   ]
  },
  {
   "cell_type": "code",
   "execution_count": 5,
   "id": "d66d1047-809d-43b2-88a2-ff762484ca5a",
   "metadata": {},
   "outputs": [
    {
     "name": "stderr",
     "output_type": "stream",
     "text": [
      "[nltk_data] Downloading package vader_lexicon to\n",
      "[nltk_data]     C:\\Users\\ASUS\\AppData\\Roaming\\nltk_data...\n"
     ]
    },
    {
     "data": {
      "text/plain": [
       "True"
      ]
     },
     "execution_count": 5,
     "metadata": {},
     "output_type": "execute_result"
    }
   ],
   "source": [
    "import nltk\n",
    "nltk.download('vader_lexicon')"
   ]
  },
  {
   "cell_type": "code",
   "execution_count": 9,
   "id": "766c82c7-e9e7-4697-9cbf-1036694f3dc4",
   "metadata": {},
   "outputs": [],
   "source": [
    "example = \"\"\"Several of the world’s leading technology companies, including Google, Microsoft, and OpenAI, have joined forces to establish new safety standards for the development and deployment of artificial intelligence (AI). This collaboration comes amid growing concerns about the potential risks posed by advanced AI systems, particularly in critical areas such as healthcare, defense, and finance.\n",
    "\n",
    "The companies announced their plans at a global summit on AI governance, held in San Francisco. Their goal is to create a shared framework that ensures AI systems are developed in a way that prioritizes human safety, transparency, and accountability. The framework will include guidelines for testing AI models, ensuring fairness in decision-making processes, and preventing unintended harmful consequences.\n",
    "\n",
    "In a joint statement, the tech giants emphasized the need for international cooperation, urging governments and regulatory bodies to work alongside the private sector in shaping the future of AI. \"We recognize the tremendous potential of AI, but we must also ensure that it is used responsibly and for the benefit of all,\" said Sundar Pichai, CEO of Google.\n",
    "\n",
    "This move is seen as a proactive step by the tech industry to address ethical and safety concerns before governments enforce stricter regulations. Experts believe that this initiative will help mitigate some of the risks associated with AI while allowing innovation to thrive in a controlled environment.\n",
    "\n",
    "However, critics argue that the companies involved may have conflicts of interest, as they stand to profit from AI development. Some have called for more independent oversight and stricter governmental regulation to ensure that safety and ethical standards are maintained.\n",
    "\n",
    "The AI safety framework is expected to be finalized by mid-2025 and will be made publicly available for adoption by other companies and institutions globally.\"\"\""
   ]
  },
  {
   "cell_type": "code",
   "execution_count": 13,
   "id": "0624a018-ff85-4afe-91af-e6e24fa13ec5",
   "metadata": {},
   "outputs": [],
   "source": [
    "scores = sia.polarity_scores(example)\n",
    "\n",
    "# Find the label of the highest emotion score\n",
    "emotion_label = max(scores, key=lambda k: scores[k])"
   ]
  },
  {
   "cell_type": "code",
   "execution_count": 15,
   "id": "35ccb980-0d01-46e8-8d1e-2dd21d50a2a4",
   "metadata": {},
   "outputs": [
    {
     "data": {
      "text/plain": [
       "'compound'"
      ]
     },
     "execution_count": 15,
     "metadata": {},
     "output_type": "execute_result"
    }
   ],
   "source": [
    "emotion_label"
   ]
  },
  {
   "cell_type": "code",
   "execution_count": 17,
   "id": "0c0c9c54-e66d-4291-ba42-d4d15431459e",
   "metadata": {},
   "outputs": [],
   "source": [
    "if emotion_label == 'compound':\n",
    "    emotion_label = max({k: v for k, v in scores.items() if k != 'compound'}, key=lambda k: scores[k])"
   ]
  },
  {
   "cell_type": "code",
   "execution_count": 21,
   "id": "78b0a880-6598-4acb-a90e-26ac4eaadc70",
   "metadata": {},
   "outputs": [
    {
     "data": {
      "text/plain": [
       "'neu'"
      ]
     },
     "execution_count": 21,
     "metadata": {},
     "output_type": "execute_result"
    }
   ],
   "source": [
    "emotion_label"
   ]
  },
  {
   "cell_type": "code",
   "execution_count": 23,
   "id": "6d48a38a-d3c1-4b50-aaa5-a514df60f1e6",
   "metadata": {},
   "outputs": [],
   "source": [
    "emotion_map = {\n",
    "    'pos': 'Positive',\n",
    "    'neg': 'Negative',\n",
    "    'neu': 'Neutral'\n",
    "}"
   ]
  },
  {
   "cell_type": "code",
   "execution_count": 25,
   "id": "b19e525e-5b15-4a4c-b898-a0319cfeec43",
   "metadata": {},
   "outputs": [],
   "source": [
    "emotion_name = emotion_map[emotion_label]"
   ]
  },
  {
   "cell_type": "code",
   "execution_count": 27,
   "id": "09371bb2-f757-419a-b9a5-9e76a3f35199",
   "metadata": {},
   "outputs": [
    {
     "data": {
      "text/plain": [
       "'Neutral'"
      ]
     },
     "execution_count": 27,
     "metadata": {},
     "output_type": "execute_result"
    }
   ],
   "source": [
    "emotion_name"
   ]
  },
  {
   "cell_type": "code",
   "execution_count": 31,
   "id": "c68568cd-5b38-4cf9-b647-7c9398e0f5db",
   "metadata": {},
   "outputs": [],
   "source": [
    "def SentimentAnalysis(text):\n",
    "    scores = sia.polarity_scores(text)\n",
    "\n",
    "    emotion_label = max(scores, key=lambda k: scores[k])\n",
    "\n",
    "    if emotion_label == 'compound':\n",
    "        emotion_label = max({k: v for k, v in scores.items() if k != 'compound'}, key=lambda k: scores[k])\n",
    "\n",
    "    return emotion_map[emotion_label]\n",
    "    \n",
    "\n",
    "   \n",
    "    "
   ]
  },
  {
   "cell_type": "code",
   "execution_count": 33,
   "id": "93b089f7-770d-4af4-95d0-db965b383bde",
   "metadata": {},
   "outputs": [
    {
     "data": {
      "text/plain": [
       "'Neutral'"
      ]
     },
     "execution_count": 33,
     "metadata": {},
     "output_type": "execute_result"
    }
   ],
   "source": [
    "SentimentAnalysis(example)"
   ]
  },
  {
   "cell_type": "code",
   "execution_count": null,
   "id": "c9839fe2-f6c2-4997-a332-21e475835fa6",
   "metadata": {},
   "outputs": [],
   "source": []
  }
 ],
 "metadata": {
  "kernelspec": {
   "display_name": "Python 3 (ipykernel)",
   "language": "python",
   "name": "python3"
  },
  "language_info": {
   "codemirror_mode": {
    "name": "ipython",
    "version": 3
   },
   "file_extension": ".py",
   "mimetype": "text/x-python",
   "name": "python",
   "nbconvert_exporter": "python",
   "pygments_lexer": "ipython3",
   "version": "3.12.4"
  }
 },
 "nbformat": 4,
 "nbformat_minor": 5
}
